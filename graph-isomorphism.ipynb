{
 "cells": [
  {
   "cell_type": "markdown",
   "id": "84a0f22f",
   "metadata": {},
   "source": [
    "# The Graph - Isomorphism Problem"
   ]
  },
  {
   "cell_type": "markdown",
   "id": "f8a9fed6",
   "metadata": {},
   "source": [
    "#  What is it?"
   ]
  },
  {
   "cell_type": "markdown",
   "id": "2b728b7b",
   "metadata": {},
   "source": [
    "The graph - isomorphism problem is a problem in computing that exists to determine whether two finite graphs are the same (isomorphic) or not. To this day it is not known to be solveable in polynomial time. \n",
    "\n",
    "It is possible to attempt to solve this problem by trying out all permutations of the vertices but this would take a very long time and result in an open ended result so therefore is not guaranteed to be accurate."
   ]
  },
  {
   "cell_type": "markdown",
   "id": "45451884",
   "metadata": {},
   "source": [
    "# Graphs represented in Data Structures"
   ]
  },
  {
   "cell_type": "markdown",
   "id": "ccad0311",
   "metadata": {},
   "source": [
    "A graph can be represented using 3 data structures:\n",
    "    1. adjacency matrix\n",
    "    2. ajdacency list \n",
    "    3. adjacency set\n",
    "    \n",
    "Adjacency Matrix - is like a table with rows and columns where the labels represent nodes or verteces of a graph. The matrices are always square with the same number of rows as columns. Matrices work well with graphs with many connected nodes.\n",
    "\n",
    "Adjacency List - where every vertex is represented as a node object. The node consists of a link or data and provides a list of all adjacent nodes to the current one.\n",
    "    For example: Node A is connected to Node B then Node B is inside of Node A's list.\n",
    "\n",
    "Adjacency Set - is very similar to a adjacent list but offers a set of adjacent vertices instead of a linked list. Both Adjacent Lists and Adjacent Sets work well with graphs with a few connected nodes.\n",
    "\n"
   ]
  },
  {
   "cell_type": "markdown",
   "id": "e662a896",
   "metadata": {},
   "source": [
    "# Python use:"
   ]
  },
  {
   "cell_type": "code",
   "execution_count": null,
   "id": "55df35ce",
   "metadata": {},
   "outputs": [],
   "source": [
    "# This code is from NetworkX\n",
    "\n",
    "# This code checks to see if graphs are isomorphic or not\n",
    "#first  set is for digraphs second one is for multidigraphs\n",
    "\n",
    "G1 = nx.DiGraph()\n",
    "G2 = nx.DiGraph()\n",
    "nx.add_path(G1, [1, 2, 3, 4], weight=1)\n",
    "nx.add_path(G2, [10, 20, 30, 40], weight=2)\n",
    "em = iso.numerical_edge_match(\"weight\", 1)\n",
    "nx.is_isomorphic(G1, G2)  # no weights considered\n",
    "True\n",
    "nx.is_isomorphic(G1, G2, edge_match=em)\n",
    "# result should be false\n",
    "\n",
    "G1 = nx.MultiDiGraph()\n",
    "G2 = nx.MultiDiGraph()\n",
    "G1.add_nodes_from([1, 2, 3], fill=\"red\")\n",
    "G2.add_nodes_from([10, 20, 30, 40], fill=\"red\")\n",
    "nx.add_path(G1, [1, 2, 3, 4], weight=3, linewidth=2.5)\n",
    "nx.add_path(G2, [10, 20, 30, 40], weight=3)\n",
    "nm = iso.categorical_node_match(\"fill\", \"red\")\n",
    "nx.is_isomorphic(G1, G2, node_match=nm)\n",
    "# result should be true\n",
    "\n",
    "# There are 4 functions:\n",
    "# is_isomorphic() - returns true if they are the same and false \n",
    "# if not.\n",
    "#could_be_isomorphic() - returns false if the graphs are\n",
    "# definitely not isomorphic.\n",
    "# fast_could_be_isomorphic() - also returns false if graphs are\n",
    "# definitely not isomorphic.\n",
    "# faster_could_be_isomorphic() - returns false if graphs are \n",
    "# definitely not isomorphic."
   ]
  },
  {
   "cell_type": "markdown",
   "id": "33cfd7e9",
   "metadata": {},
   "source": [
    "# Computational Complexity"
   ]
  },
  {
   "cell_type": "markdown",
   "id": "b27e7024",
   "metadata": {},
   "source": [
    "The graph isomorphism problem cannot be calculated using NP therefore researchers have created a new class called GI. GI is a set of problems with a polynomial-time Turing reduction to the graph isomorphism problem. This means that if the problem is solveable in polynomial time then GI would be equal to P, but if the problem is NP-complete then that means that GI is equal to NP."
   ]
  },
  {
   "cell_type": "markdown",
   "id": "1226d27c",
   "metadata": {},
   "source": [
    "# Sources:"
   ]
  },
  {
   "cell_type": "markdown",
   "id": "961c9431",
   "metadata": {},
   "source": [
    "1. https://en.wikipedia.org/wiki/Graph_isomorphism_problem#:~:text=The%20graph%20isomorphism%20problem%20is,computational%20complexity%20class%20NP%2Dintermediate.\n",
    "2. https://www.mygreatlearning.com/blog/representing-graphs-in-data-structures/#:~:text=A%20graph%20can%20be%20represented,the%20nodes%20of%20a%20graph.\n",
    "3. https://networkx.org/documentation/stable/reference/algorithms/isomorphism.html\n"
   ]
  }
 ],
 "metadata": {
  "kernelspec": {
   "display_name": "Python 3 (ipykernel)",
   "language": "python",
   "name": "python3"
  },
  "language_info": {
   "codemirror_mode": {
    "name": "ipython",
    "version": 3
   },
   "file_extension": ".py",
   "mimetype": "text/x-python",
   "name": "python",
   "nbconvert_exporter": "python",
   "pygments_lexer": "ipython3",
   "version": "3.9.7"
  }
 },
 "nbformat": 4,
 "nbformat_minor": 5
}
