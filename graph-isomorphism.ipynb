{
 "cells": [
  {
   "cell_type": "markdown",
   "id": "84a0f22f",
   "metadata": {},
   "source": [
    "# The Graph - Isomorphism Problem"
   ]
  },
  {
   "cell_type": "markdown",
   "id": "f8a9fed6",
   "metadata": {},
   "source": [
    "#  What is it?"
   ]
  },
  {
   "cell_type": "markdown",
   "id": "2b728b7b",
   "metadata": {},
   "source": [
    "The graph - isomorphism problem is a problem in computing that exists to determine whether two finite graphs are the same (isomorphic) or not. To this day it is not known to be solveable in polynomial time. \n",
    "\n",
    "It is possible to attempt to solve this problem by trying out all permutations of the vertices but this would take a very long time and result in an open ended result so therefore is not guaranteed to be accurate."
   ]
  },
  {
   "cell_type": "markdown",
   "id": "45451884",
   "metadata": {},
   "source": [
    "# Graphs represented in Data Structures"
   ]
  },
  {
   "cell_type": "markdown",
   "id": "ccad0311",
   "metadata": {},
   "source": []
  },
  {
   "cell_type": "markdown",
   "id": "e662a896",
   "metadata": {},
   "source": [
    "# Python use:"
   ]
  },
  {
   "cell_type": "code",
   "execution_count": null,
   "id": "55df35ce",
   "metadata": {},
   "outputs": [],
   "source": []
  },
  {
   "cell_type": "markdown",
   "id": "33cfd7e9",
   "metadata": {},
   "source": [
    "# Computational Complexity"
   ]
  },
  {
   "cell_type": "markdown",
   "id": "b27e7024",
   "metadata": {},
   "source": [
    "The graph isomorphism problem cannot be calculated using NP therefore researchers have created a new class called GI. GI is a set of problems with a polynomial-time Turing reduction to the graph isomorphism problem. This means that if the problem is solveable in polynomial time then GI would be equal to P, but if the problem is NP-complete then that means that GI is equal to NP."
   ]
  },
  {
   "cell_type": "markdown",
   "id": "1226d27c",
   "metadata": {},
   "source": [
    "# Sources:"
   ]
  },
  {
   "cell_type": "markdown",
   "id": "961c9431",
   "metadata": {},
   "source": [
    "1. https://en.wikipedia.org/wiki/Graph_isomorphism_problem#:~:text=The%20graph%20isomorphism%20problem%20is,computational%20complexity%20class%20NP%2Dintermediate.\n"
   ]
  }
 ],
 "metadata": {
  "kernelspec": {
   "display_name": "Python 3 (ipykernel)",
   "language": "python",
   "name": "python3"
  },
  "language_info": {
   "codemirror_mode": {
    "name": "ipython",
    "version": 3
   },
   "file_extension": ".py",
   "mimetype": "text/x-python",
   "name": "python",
   "nbconvert_exporter": "python",
   "pygments_lexer": "ipython3",
   "version": "3.9.7"
  }
 },
 "nbformat": 4,
 "nbformat_minor": 5
}
