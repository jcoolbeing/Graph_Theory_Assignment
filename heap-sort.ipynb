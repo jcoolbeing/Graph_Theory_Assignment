{
 "cells": [
  {
   "cell_type": "code",
   "execution_count": null,
   "id": "e132e72f",
   "metadata": {},
   "outputs": [],
   "source": [
    "Heap Sort\n",
    "\n",
    "What is it?\n",
    "Heap sort is a comparison based sorting algorithm invented by J. W. J. Williams in 1964.  It is very similar to selection \n",
    "sort as it also divides itself into sorted and unsorted regions and moves the highest number from the latter into sorted.\n",
    "By storing the unsorted region inside of a heap structure rather than doing linear searches a lot of time can be saved.\n",
    "Heap sort almost always works at O (n log n).\n",
    "\n",
    "\n",
    "How does it work?\n",
    "In Heap Sort you either sort in ascending or descending order.  This is called min-heap for ascending and max-heap for \n",
    "descending order.  The first step is to construct a binary heap with its index being its root node.  Every node except \n",
    "for the root has a parent node.  The second step is to keep taking out the largest or lowest number depending on which\n",
    "order you selected from the heap and inserting it into a sorted array."
   ]
  },
  {
   "cell_type": "code",
   "execution_count": null,
   "id": "2879276f",
   "metadata": {},
   "outputs": [],
   "source": [
    "#Python implementation: based on code from Geeks4Geeks\n",
    "def heapify()"
   ]
  },
  {
   "cell_type": "markdown",
   "id": "f536d238",
   "metadata": {},
   "source": [
    "Computational Complexity\n",
    "Heap sort is unstable and usualy slower than Quick sort and Merge sort. A big advantage that heap sort has is the fact that it does not require additional memory. It has a average time complexity of O(n log n).\n",
    "    \n",
    "    Space Complexity\n",
    "Heap sort has a space complexity of O(1).\n",
    "The only memory required for Heap sort is for aux variables and for the looping variable and the number of those variables does not change no matter how many elements are involved.\n",
    "\n",
    "How is Graph Theory used in it?\n",
    "\n"
   ]
  }
 ],
 "metadata": {
  "kernelspec": {
   "display_name": "Python 3 (ipykernel)",
   "language": "python",
   "name": "python3"
  },
  "language_info": {
   "codemirror_mode": {
    "name": "ipython",
    "version": 3
   },
   "file_extension": ".py",
   "mimetype": "text/x-python",
   "name": "python",
   "nbconvert_exporter": "python",
   "pygments_lexer": "ipython3",
   "version": "3.9.7"
  }
 },
 "nbformat": 4,
 "nbformat_minor": 5
}
