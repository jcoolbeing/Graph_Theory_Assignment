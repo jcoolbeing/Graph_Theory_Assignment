{
 "cells": [
  {
   "cell_type": "code",
   "execution_count": null,
   "id": "e132e72f",
   "metadata": {},
   "outputs": [],
   "source": [
    "Heap Sort\n",
    "\n",
    "What is it?\n",
    "Heap sort is a comparison based sorting algorithm invented by J. W. J. Williams in 1964.  It is very similar to selection sort as it also divides itself into sorted\n",
    "and unsorted regions and moves the highest number from the latter into sorted.  By storing the unsorted region inside of a heap\n",
    "structure rather than doing linear searches a lot of time can be saved.  Heap sort almost always works at O (n log n).\n",
    "\n",
    "\n",
    "How does it work?\n",
    "\n",
    "\n",
    "\n",
    "Heap Sort in Python\n",
    "\n",
    "\n",
    "Computational Complexity\n",
    "\n",
    "\n",
    "How is Graph Theory used in it?\n"
   ]
  }
 ],
 "metadata": {
  "kernelspec": {
   "display_name": "Python 3 (ipykernel)",
   "language": "python",
   "name": "python3"
  },
  "language_info": {
   "codemirror_mode": {
    "name": "ipython",
    "version": 3
   },
   "file_extension": ".py",
   "mimetype": "text/x-python",
   "name": "python",
   "nbconvert_exporter": "python",
   "pygments_lexer": "ipython3",
   "version": "3.9.7"
  }
 },
 "nbformat": 4,
 "nbformat_minor": 5
}
