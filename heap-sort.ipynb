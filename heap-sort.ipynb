{
 "cells": [
  {
   "cell_type": "markdown",
   "id": "30ac67b8",
   "metadata": {},
   "source": [
    "# HEAP SORT"
   ]
  },
  {
   "cell_type": "markdown",
   "id": "c0deb38b",
   "metadata": {},
   "source": [
    "# What is it?"
   ]
  },
  {
   "cell_type": "markdown",
   "id": "f15810d9",
   "metadata": {},
   "source": [
    "\n",
    "Heap sort is a comparison based sorting algorithm invented by J. W. J. Williams in 1964.  It is very similar to selection \n",
    "sort as it also divides itself into sorted and unsorted regions and moves the highest number from the latter into sorted.\n",
    "By storing the unsorted region inside of a heap structure rather than doing linear searches a lot of time can be saved.\n",
    "Heap sort almost always works at O (n log n)."
   ]
  },
  {
   "cell_type": "markdown",
   "id": "2bf39df4",
   "metadata": {},
   "source": [
    "# How does it work?"
   ]
  },
  {
   "cell_type": "markdown",
   "id": "ebdf79c3",
   "metadata": {},
   "source": [
    "\n",
    "In Heap Sort you either sort in ascending or descending order.  This is called min-heap for ascending and max-heap for \n",
    "descending order.  The first step is to construct a binary heap with its index being its root node.  Every node except \n",
    "for the root has a parent node.  The second step is to keep taking out the largest or lowest number depending on which\n",
    "order you selected from the heap and inserting it into a sorted array."
   ]
  },
  {
   "cell_type": "markdown",
   "id": "b781c810",
   "metadata": {},
   "source": [
    "# Heap Sort in Python"
   ]
  },
  {
   "cell_type": "code",
   "execution_count": null,
   "id": "2879276f",
   "metadata": {},
   "outputs": [],
   "source": [
    "#Python implementation: based on the code from Geeks4Geeks's Mohit Kumra\n",
    "#referenced on the bottom under sources.\n",
    "#The two functions in Python are heapify() and heapSort()\n",
    "\n",
    "def heapify(arr, n, i):\n",
    "    biggest = i #root\n",
    "    left = 2* i +1 #left node\n",
    "    right = 2* i + 2 #right node\n",
    "    \n",
    "    # check for left node\n",
    "    if left < n and arr[i]< arr[l]:\n",
    "        biggest=l\n",
    "    # check for right node\n",
    "    if right < n and arr [biggest] < arr[right]:\n",
    "        biggest = r\n",
    "        \n",
    "    #incase you need to change root\n",
    "    if biggest != i:\n",
    "        arr[i], arr[biggest] = arr[biggest], arr[i]\n",
    "        \n",
    "        # use heapify on the root\n",
    "        heapify(arr,n,biggest)\n",
    "    \n",
    "    # function used to sort array of a given size\n",
    "    def heapSort(arr):\n",
    "        n=len(arr)\n",
    "        \n",
    "        #Max Heap\n",
    "        for i in range(n//2-1,-1,-1):\n",
    "            heapify(arr, n, i)\n",
    "            \n",
    "        # extracting the elements one by one\n",
    "        for i in range(n-1, 0, -1):\n",
    "            arr[i], arr[0] = arr[0], arr[i] \n",
    "            heapify(arr, i, 0)\n",
    "    \n",
    "    # code used tot test the above algorithm\n",
    "    arr = [12,11,13,5,6,7]\n",
    "    heapSort(arr)\n",
    "    n = len(arr)\n",
    "    print (\"Sorted array: \")\n",
    "    for i in range(n):\n",
    "        print (\"%d\" %arr[i])"
   ]
  },
  {
   "cell_type": "markdown",
   "id": "89354a9e",
   "metadata": {},
   "source": [
    "# Computational Complexity"
   ]
  },
  {
   "cell_type": "markdown",
   "id": "f536d238",
   "metadata": {},
   "source": [
    "\n",
    "Heap sort is unstable and usualy slower than Quick sort and Merge sort. A big advantage that heap sort has is the fact that it does not require additional memory. It has a average time complexity of O(n log n).\n",
    "    \n",
    "Space Complexity\n",
    "\n",
    "Heap sort has a space complexity of O(1).\n",
    "The only memory required for Heap sort is for aux variables and for the looping variable and the number of those variables does not change no matter how many elements are involved.\n",
    "\n",
    "Bottom-Up Heapsort - \n"
   ]
  },
  {
   "cell_type": "markdown",
   "id": "b9364b83",
   "metadata": {},
   "source": [
    "# How is Graph Theory used in it?"
   ]
  },
  {
   "cell_type": "markdown",
   "id": "e20c9c22",
   "metadata": {},
   "source": [
    "How is Graph Theory used in it?\n",
    "\n"
   ]
  },
  {
   "cell_type": "markdown",
   "id": "03c61e59",
   "metadata": {},
   "source": [
    "# Sources:"
   ]
  },
  {
   "cell_type": "markdown",
   "id": "5c6ddc95",
   "metadata": {},
   "source": [
    "    \n",
    "https://www.happycoders.eu/algorithms/heapsort/#:~:text=Heapsort%20is%20an%20efficient%2C%20unstable,less%20commonly%20encountered%20in%20practice.\n",
    "\n",
    "https://www.geeksforgeeks.org/heap-sort/\n",
    "\n",
    "https://en.wikipedia.org/wiki/Heapsort"
   ]
  }
 ],
 "metadata": {
  "kernelspec": {
   "display_name": "Python 3 (ipykernel)",
   "language": "python",
   "name": "python3"
  },
  "language_info": {
   "codemirror_mode": {
    "name": "ipython",
    "version": 3
   },
   "file_extension": ".py",
   "mimetype": "text/x-python",
   "name": "python",
   "nbconvert_exporter": "python",
   "pygments_lexer": "ipython3",
   "version": "3.9.7"
  }
 },
 "nbformat": 4,
 "nbformat_minor": 5
}
